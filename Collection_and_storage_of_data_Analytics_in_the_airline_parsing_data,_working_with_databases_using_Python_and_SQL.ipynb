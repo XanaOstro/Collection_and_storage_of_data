{
  "nbformat": 4,
  "nbformat_minor": 0,
  "metadata": {
    "colab": {
      "name": "Collection and storage of data_Analytics in the airline: parsing data, working with databases using Python and SQL.ipynb",
      "provenance": []
    },
    "kernelspec": {
      "display_name": "Python 3",
      "language": "python",
      "name": "python3"
    },
    "language_info": {
      "codemirror_mode": {
        "name": "ipython",
        "version": 3
      },
      "file_extension": ".py",
      "mimetype": "text/x-python",
      "name": "python",
      "nbconvert_exporter": "python",
      "pygments_lexer": "ipython3",
      "version": "3.7.8"
    },
    "toc": {
      "base_numbering": 1,
      "nav_menu": {},
      "number_sections": true,
      "sideBar": true,
      "skip_h1_title": true,
      "title_cell": "Table of Contents",
      "title_sidebar": "Contents",
      "toc_cell": false,
      "toc_position": {},
      "toc_section_display": true,
      "toc_window_display": false
    }
  },
  "cells": [
    {
      "cell_type": "markdown",
      "metadata": {
        "id": "JGDoRI72QmJ4"
      },
      "source": [
        "# Спрос на рейсы авиакомпании\n",
        "\n"
      ]
    },
    {
      "cell_type": "markdown",
      "metadata": {
        "id": "3lQR-hFHrp9C"
      },
      "source": [
        "**Цель проекта:** понять предпочтения пользователей, покупающих билеты на разные направления.\n",
        "\n",
        "**Задача проекта:** изучить базу данных и проанализировать спрос пассажиров на рейсы в города, где проходят крупнейшие фестивали.\n",
        "\n",
        "**Описание данных:**\n",
        "\n",
        "*Таблица airports* — информация об аэропортах:\n",
        "\n",
        "airport_code — трёхбуквенный код аэропорта,\n",
        "\n",
        "airport_name — название аэропорта,\n",
        "\n",
        "city — город,\n",
        "\n",
        "timezone — часовой пояс.\n",
        "\n",
        "*Таблица aircrafts* — информация о самолётах:\n",
        "\n",
        "aircraft_code — код модели самолёта,\n",
        "\n",
        "model — модель самолёта,\n",
        "\n",
        "range — дальность полётов.\n",
        "\n",
        "*Таблица ticket* — информация о билетах:\n",
        "\n",
        "ticket_no — уникальный номер билета,\n",
        "\n",
        "passenger_id — уникальный идентификатор пассажира,\n",
        "\n",
        "passenger_name — имя и фамилия пассажира.\n",
        "\n",
        "*Таблица flights* — информация о рейсах:\n",
        "\n",
        "flight_id — уникальный идентификатор рейса,\n",
        "\n",
        "departure_airport — аэропорт вылета,\n",
        "\n",
        "departure_time — дата и время вылета,\n",
        "\n",
        "arrival_airport — аэропорт прилёта,\n",
        "\n",
        "arrival_time — дата и время прилёта,\n",
        "\n",
        "aircraft_code — уникальный идентификатор самолёта.\n",
        "\n",
        "*Таблица ticket_flights* — стыковая таблица «рейсы-билеты»:\n",
        "\n",
        "ticket_no — номер билета,\n",
        "\n",
        "flight_id — уникальный идентификатор рейса.\n",
        "\n",
        "*Таблица festivals* — информация о фестивалях:\n",
        "\n",
        "festival_id — уникальный номер фестиваля,\n",
        "\n",
        "festival_date — дата проведения фестиваля,\n",
        "\n",
        "festival_city — город проведения фестиваля,\n",
        "\n",
        "festival_name — название фестиваля."
      ]
    },
    {
      "cell_type": "markdown",
      "metadata": {
        "id": "jDybXSLgrxej"
      },
      "source": [
        "**Получим данные**. Напишем парсер для сбора данных с сайта о фестивалях 2018 года. Сохраним данные в датафрейм festivals."
      ]
    },
    {
      "cell_type": "code",
      "metadata": {
        "colab": {
          "base_uri": "https://localhost:8080/",
          "height": 386
        },
        "id": "DeujFrqsrh97",
        "outputId": "dd344e38-32a7-4e63-84fb-5d21152f0358"
      },
      "source": [
        "import requests  # Импорт библиотеки для запросов к серверу\n",
        "from bs4 import (\n",
        "    BeautifulSoup,\n",
        ")\n",
        "URL = '.../festival_news/index.html'\n",
        "req = requests.get(URL) # GET-запрос\n",
        "soup = BeautifulSoup(req.text, 'lxml') \n",
        "table = soup.find('table',attrs={'id': 'best_festivals'})\n",
        "heading_table = []\n",
        "for row in table.find_all('th'):\n",
        "    heading_table.append(row.text)\n",
        "\n",
        "content=[]\n",
        "for row in table.find_all('tr'): \n",
        "    if not row.find_all('th'):\n",
        "        content.append([element.text for element in row.find_all('td')])\n",
        "\n",
        "import pandas as pd\n",
        "festivals = pd.DataFrame(content, columns=heading_table) \n",
        "festivals"
      ],
      "execution_count": 1,
      "outputs": [
        {
          "output_type": "execute_result",
          "data": {
            "text/html": [
              "<div>\n",
              "<style scoped>\n",
              "    .dataframe tbody tr th:only-of-type {\n",
              "        vertical-align: middle;\n",
              "    }\n",
              "\n",
              "    .dataframe tbody tr th {\n",
              "        vertical-align: top;\n",
              "    }\n",
              "\n",
              "    .dataframe thead th {\n",
              "        text-align: right;\n",
              "    }\n",
              "</style>\n",
              "<table border=\"1\" class=\"dataframe\">\n",
              "  <thead>\n",
              "    <tr style=\"text-align: right;\">\n",
              "      <th></th>\n",
              "      <th>Название фестиваля</th>\n",
              "      <th>Место проведения</th>\n",
              "      <th>Дата проведения</th>\n",
              "    </tr>\n",
              "  </thead>\n",
              "  <tbody>\n",
              "    <tr>\n",
              "      <th>0</th>\n",
              "      <td>Музыкальный фестиваль «Усадьба Jazz»</td>\n",
              "      <td>Екатеринбург</td>\n",
              "      <td>01.07.2018</td>\n",
              "    </tr>\n",
              "    <tr>\n",
              "      <th>1</th>\n",
              "      <td>Фестиваль музыки и технологий Alfa Future People</td>\n",
              "      <td>Нижний Новгород</td>\n",
              "      <td>10.08.2018</td>\n",
              "    </tr>\n",
              "    <tr>\n",
              "      <th>2</th>\n",
              "      <td>Фестиваль еды «О, да! Еда!»</td>\n",
              "      <td>Санкт-Петербург</td>\n",
              "      <td>21.07.2018</td>\n",
              "    </tr>\n",
              "    <tr>\n",
              "      <th>3</th>\n",
              "      <td>Доброфест</td>\n",
              "      <td>Ярославль</td>\n",
              "      <td>29.07.2018</td>\n",
              "    </tr>\n",
              "    <tr>\n",
              "      <th>4</th>\n",
              "      <td>Park Live</td>\n",
              "      <td>Москва</td>\n",
              "      <td>28.07.2018</td>\n",
              "    </tr>\n",
              "    <tr>\n",
              "      <th>5</th>\n",
              "      <td>Пикник Афиши</td>\n",
              "      <td>Москва</td>\n",
              "      <td>04.08.2018</td>\n",
              "    </tr>\n",
              "    <tr>\n",
              "      <th>6</th>\n",
              "      <td>VK FEST</td>\n",
              "      <td>Санкт-Петербург</td>\n",
              "      <td>29.07.2018</td>\n",
              "    </tr>\n",
              "    <tr>\n",
              "      <th>7</th>\n",
              "      <td>Фестиваль «О, да! Еда!»</td>\n",
              "      <td>Иркутск</td>\n",
              "      <td>25.08.2018</td>\n",
              "    </tr>\n",
              "    <tr>\n",
              "      <th>8</th>\n",
              "      <td>Фестиваль «О, да! Еда!»</td>\n",
              "      <td>Владивосток</td>\n",
              "      <td>02.09.2018</td>\n",
              "    </tr>\n",
              "    <tr>\n",
              "      <th>9</th>\n",
              "      <td>Видфест</td>\n",
              "      <td>Москва</td>\n",
              "      <td>08.09.2018</td>\n",
              "    </tr>\n",
              "    <tr>\n",
              "      <th>10</th>\n",
              "      <td>«Нашествие 2018»</td>\n",
              "      <td>Тверь</td>\n",
              "      <td>05.08.2018</td>\n",
              "    </tr>\n",
              "  </tbody>\n",
              "</table>\n",
              "</div>"
            ],
            "text/plain": [
              "                                  Название фестиваля  ... Дата проведения\n",
              "0               Музыкальный фестиваль «Усадьба Jazz»  ...      01.07.2018\n",
              "1   Фестиваль музыки и технологий Alfa Future People  ...      10.08.2018\n",
              "2                        Фестиваль еды «О, да! Еда!»  ...      21.07.2018\n",
              "3                                          Доброфест  ...      29.07.2018\n",
              "4                                          Park Live  ...      28.07.2018\n",
              "5                                       Пикник Афиши  ...      04.08.2018\n",
              "6                                            VK FEST  ...      29.07.2018\n",
              "7                            Фестиваль «О, да! Еда!»  ...      25.08.2018\n",
              "8                            Фестиваль «О, да! Еда!»  ...      02.09.2018\n",
              "9                                            Видфест  ...      08.09.2018\n",
              "10                                  «Нашествие 2018»  ...      05.08.2018\n",
              "\n",
              "[11 rows x 3 columns]"
            ]
          },
          "metadata": {},
          "execution_count": 1
        }
      ]
    },
    {
      "cell_type": "markdown",
      "metadata": {
        "id": "YH0J82_Vr8um"
      },
      "source": [
        "По заданию заказчика требуется посчитать количество билетов, купленных на рейсы в Москву в период с 23.08.2018 по 30.09.2018. В таблице должен быть номер недели; информация о количестве купленных за неделю билетов; номер недели, если в эту неделю проходил фестиваль, и nan, если не проходил; название фестиваля."
      ]
    },
    {
      "cell_type": "code",
      "metadata": {
        "id": "fEFc7Kcwrh98"
      },
      "source": [
        "# select \n",
        "#     extract (week from f.arrival_time) as week_number, \n",
        "#     count(tf.ticket_no) as ticket_amount,\n",
        "#     extract(week from fest.festival_date) as festival_week, \n",
        "#     fest.festival_name as festival_name\n",
        "# from ticket_flights as tf\n",
        "# inner join flights as f on f.flight_id = tf.flight_id\n",
        "# inner join airports as a on a.airport_code = f.arrival_airport\n",
        "# left join festivals as fest on extract(week from fest.festival_date) = extract(week from f.arrival_time) and fest.festival_city = a.city\n",
        "# where f.arrival_time::date between '2018-07-23' and '2018-09-30'\n",
        "# and a.city = 'Москва'\n",
        "# group by week_number, festival_week, fest.festival_name"
      ],
      "execution_count": 2,
      "outputs": []
    },
    {
      "cell_type": "markdown",
      "metadata": {
        "id": "xaCmvntWL_x4"
      },
      "source": [
        "**1. Импортирование файлов**"
      ]
    },
    {
      "cell_type": "code",
      "metadata": {
        "id": "XEkAiVkxQQFB"
      },
      "source": [
        "import pandas as pd\n",
        "import matplotlib.pyplot as plt\n",
        "import seaborn as sns\n",
        "import numpy as np\n"
      ],
      "execution_count": null,
      "outputs": []
    },
    {
      "cell_type": "markdown",
      "metadata": {
        "id": "unWv3BBoMF4z"
      },
      "source": [
        "**2. Изучение данных**"
      ]
    },
    {
      "cell_type": "code",
      "metadata": {
        "colab": {
          "base_uri": "https://localhost:8080/",
          "height": 297
        },
        "id": "vAz-vNtUQqqx",
        "outputId": "504f20df-a235-4960-ab2a-e722a7fe4131"
      },
      "source": [
        "q1 = pd.read_csv('.../datasets/query_1.csv')\n",
        "q1"
      ],
      "execution_count": null,
      "outputs": [
        {
          "data": {
            "text/html": [
              "<div>\n",
              "<style scoped>\n",
              "    .dataframe tbody tr th:only-of-type {\n",
              "        vertical-align: middle;\n",
              "    }\n",
              "\n",
              "    .dataframe tbody tr th {\n",
              "        vertical-align: top;\n",
              "    }\n",
              "\n",
              "    .dataframe thead th {\n",
              "        text-align: right;\n",
              "    }\n",
              "</style>\n",
              "<table border=\"1\" class=\"dataframe\">\n",
              "  <thead>\n",
              "    <tr style=\"text-align: right;\">\n",
              "      <th></th>\n",
              "      <th>model</th>\n",
              "      <th>flights_amount</th>\n",
              "    </tr>\n",
              "  </thead>\n",
              "  <tbody>\n",
              "    <tr>\n",
              "      <td>0</td>\n",
              "      <td>Airbus A319-100</td>\n",
              "      <td>607</td>\n",
              "    </tr>\n",
              "    <tr>\n",
              "      <td>1</td>\n",
              "      <td>Airbus A321-200</td>\n",
              "      <td>960</td>\n",
              "    </tr>\n",
              "    <tr>\n",
              "      <td>2</td>\n",
              "      <td>Boeing 737-300</td>\n",
              "      <td>630</td>\n",
              "    </tr>\n",
              "    <tr>\n",
              "      <td>3</td>\n",
              "      <td>Boeing 767-300</td>\n",
              "      <td>600</td>\n",
              "    </tr>\n",
              "    <tr>\n",
              "      <td>4</td>\n",
              "      <td>Boeing 777-300</td>\n",
              "      <td>300</td>\n",
              "    </tr>\n",
              "    <tr>\n",
              "      <td>5</td>\n",
              "      <td>Bombardier CRJ-200</td>\n",
              "      <td>4446</td>\n",
              "    </tr>\n",
              "    <tr>\n",
              "      <td>6</td>\n",
              "      <td>Cessna 208 Caravan</td>\n",
              "      <td>4557</td>\n",
              "    </tr>\n",
              "    <tr>\n",
              "      <td>7</td>\n",
              "      <td>Sukhoi SuperJet-100</td>\n",
              "      <td>4185</td>\n",
              "    </tr>\n",
              "  </tbody>\n",
              "</table>\n",
              "</div>"
            ],
            "text/plain": [
              "                 model  flights_amount\n",
              "0      Airbus A319-100             607\n",
              "1      Airbus A321-200             960\n",
              "2       Boeing 737-300             630\n",
              "3       Boeing 767-300             600\n",
              "4       Boeing 777-300             300\n",
              "5   Bombardier CRJ-200            4446\n",
              "6   Cessna 208 Caravan            4557\n",
              "7  Sukhoi SuperJet-100            4185"
            ]
          },
          "execution_count": 2,
          "metadata": {},
          "output_type": "execute_result"
        }
      ]
    },
    {
      "cell_type": "code",
      "metadata": {
        "colab": {
          "base_uri": "https://localhost:8080/"
        },
        "id": "6-QpV4F6lctc",
        "outputId": "0d2c10e5-6abf-4825-bacf-19714a3cb954"
      },
      "source": [
        "#проверка типа данных\n",
        "q1.info()"
      ],
      "execution_count": null,
      "outputs": [
        {
          "name": "stdout",
          "output_type": "stream",
          "text": [
            "<class 'pandas.core.frame.DataFrame'>\n",
            "RangeIndex: 8 entries, 0 to 7\n",
            "Data columns (total 2 columns):\n",
            "model             8 non-null object\n",
            "flights_amount    8 non-null int64\n",
            "dtypes: int64(1), object(1)\n",
            "memory usage: 256.0+ bytes\n"
          ]
        }
      ]
    },
    {
      "cell_type": "code",
      "metadata": {
        "colab": {
          "base_uri": "https://localhost:8080/",
          "height": 297
        },
        "id": "LAYKPSTClhJC",
        "outputId": "047da8ca-908c-4baf-8f1d-af7be589df7d"
      },
      "source": [
        "#числовое описание данных\n",
        "q1.describe()"
      ],
      "execution_count": null,
      "outputs": [
        {
          "data": {
            "text/html": [
              "<div>\n",
              "<style scoped>\n",
              "    .dataframe tbody tr th:only-of-type {\n",
              "        vertical-align: middle;\n",
              "    }\n",
              "\n",
              "    .dataframe tbody tr th {\n",
              "        vertical-align: top;\n",
              "    }\n",
              "\n",
              "    .dataframe thead th {\n",
              "        text-align: right;\n",
              "    }\n",
              "</style>\n",
              "<table border=\"1\" class=\"dataframe\">\n",
              "  <thead>\n",
              "    <tr style=\"text-align: right;\">\n",
              "      <th></th>\n",
              "      <th>flights_amount</th>\n",
              "    </tr>\n",
              "  </thead>\n",
              "  <tbody>\n",
              "    <tr>\n",
              "      <th>count</th>\n",
              "      <td>8.000000</td>\n",
              "    </tr>\n",
              "    <tr>\n",
              "      <th>mean</th>\n",
              "      <td>2035.625000</td>\n",
              "    </tr>\n",
              "    <tr>\n",
              "      <th>std</th>\n",
              "      <td>1965.203947</td>\n",
              "    </tr>\n",
              "    <tr>\n",
              "      <th>min</th>\n",
              "      <td>300.000000</td>\n",
              "    </tr>\n",
              "    <tr>\n",
              "      <th>25%</th>\n",
              "      <td>605.250000</td>\n",
              "    </tr>\n",
              "    <tr>\n",
              "      <th>50%</th>\n",
              "      <td>795.000000</td>\n",
              "    </tr>\n",
              "    <tr>\n",
              "      <th>75%</th>\n",
              "      <td>4250.250000</td>\n",
              "    </tr>\n",
              "    <tr>\n",
              "      <th>max</th>\n",
              "      <td>4557.000000</td>\n",
              "    </tr>\n",
              "  </tbody>\n",
              "</table>\n",
              "</div>"
            ],
            "text/plain": [
              "       flights_amount\n",
              "count        8.000000\n",
              "mean      2035.625000\n",
              "std       1965.203947\n",
              "min        300.000000\n",
              "25%        605.250000\n",
              "50%        795.000000\n",
              "75%       4250.250000\n",
              "max       4557.000000"
            ]
          },
          "execution_count": 5,
          "metadata": {
            "tags": []
          },
          "output_type": "execute_result"
        }
      ]
    },
    {
      "cell_type": "code",
      "metadata": {
        "colab": {
          "base_uri": "https://localhost:8080/"
        },
        "id": "4efFJ1V3ly5k",
        "outputId": "ad0551f0-8522-4d6b-b793-a10311b0055e"
      },
      "source": [
        "#проверка на пропуски\n",
        "q1.isna().sum()"
      ],
      "execution_count": null,
      "outputs": [
        {
          "data": {
            "text/plain": [
              "model             0\n",
              "flights_amount    0\n",
              "dtype: int64"
            ]
          },
          "execution_count": 6,
          "metadata": {
            "tags": []
          },
          "output_type": "execute_result"
        }
      ]
    },
    {
      "cell_type": "code",
      "metadata": {
        "colab": {
          "base_uri": "https://localhost:8080/"
        },
        "id": "GcsXVpiqNZah",
        "outputId": "e95a193e-157c-4c27-a3b0-363d5a215dc1"
      },
      "source": [
        "#проверка на дубликаты\n",
        "q1.duplicated().sum()"
      ],
      "execution_count": null,
      "outputs": [
        {
          "data": {
            "text/plain": [
              "0"
            ]
          },
          "execution_count": 11,
          "metadata": {
            "tags": []
          },
          "output_type": "execute_result"
        }
      ]
    },
    {
      "cell_type": "code",
      "metadata": {
        "colab": {
          "base_uri": "https://localhost:8080/",
          "height": 419
        },
        "id": "SWqMVwNLVTTw",
        "outputId": "8b29b92f-6281-4aca-86f3-50912afccfe0"
      },
      "source": [
        "#Все те же проверки проведем для ДФ q3\n",
        "q3 = pd.read_csv('.../datasets/query_3.csv')\n",
        "q3"
      ],
      "execution_count": null,
      "outputs": [
        {
          "data": {
            "text/html": [
              "<div>\n",
              "<style scoped>\n",
              "    .dataframe tbody tr th:only-of-type {\n",
              "        vertical-align: middle;\n",
              "    }\n",
              "\n",
              "    .dataframe tbody tr th {\n",
              "        vertical-align: top;\n",
              "    }\n",
              "\n",
              "    .dataframe thead th {\n",
              "        text-align: right;\n",
              "    }\n",
              "</style>\n",
              "<table border=\"1\" class=\"dataframe\">\n",
              "  <thead>\n",
              "    <tr style=\"text-align: right;\">\n",
              "      <th></th>\n",
              "      <th>city</th>\n",
              "      <th>average_flights</th>\n",
              "    </tr>\n",
              "  </thead>\n",
              "  <tbody>\n",
              "    <tr>\n",
              "      <th>0</th>\n",
              "      <td>Абакан</td>\n",
              "      <td>3.870968</td>\n",
              "    </tr>\n",
              "    <tr>\n",
              "      <th>1</th>\n",
              "      <td>Анадырь</td>\n",
              "      <td>1.000000</td>\n",
              "    </tr>\n",
              "    <tr>\n",
              "      <th>2</th>\n",
              "      <td>Анапа</td>\n",
              "      <td>2.161290</td>\n",
              "    </tr>\n",
              "    <tr>\n",
              "      <th>3</th>\n",
              "      <td>Архангельск</td>\n",
              "      <td>5.354839</td>\n",
              "    </tr>\n",
              "    <tr>\n",
              "      <th>4</th>\n",
              "      <td>Астрахань</td>\n",
              "      <td>2.451613</td>\n",
              "    </tr>\n",
              "    <tr>\n",
              "      <th>...</th>\n",
              "      <td>...</td>\n",
              "      <td>...</td>\n",
              "    </tr>\n",
              "    <tr>\n",
              "      <th>96</th>\n",
              "      <td>Чита</td>\n",
              "      <td>1.580645</td>\n",
              "    </tr>\n",
              "    <tr>\n",
              "      <th>97</th>\n",
              "      <td>Элиста</td>\n",
              "      <td>4.870968</td>\n",
              "    </tr>\n",
              "    <tr>\n",
              "      <th>98</th>\n",
              "      <td>Южно-Сахалинск</td>\n",
              "      <td>4.290323</td>\n",
              "    </tr>\n",
              "    <tr>\n",
              "      <th>99</th>\n",
              "      <td>Якутск</td>\n",
              "      <td>2.741935</td>\n",
              "    </tr>\n",
              "    <tr>\n",
              "      <th>100</th>\n",
              "      <td>Ярославль</td>\n",
              "      <td>1.322581</td>\n",
              "    </tr>\n",
              "  </tbody>\n",
              "</table>\n",
              "<p>101 rows × 2 columns</p>\n",
              "</div>"
            ],
            "text/plain": [
              "               city  average_flights\n",
              "0            Абакан         3.870968\n",
              "1           Анадырь         1.000000\n",
              "2             Анапа         2.161290\n",
              "3       Архангельск         5.354839\n",
              "4         Астрахань         2.451613\n",
              "..              ...              ...\n",
              "96             Чита         1.580645\n",
              "97           Элиста         4.870968\n",
              "98   Южно-Сахалинск         4.290323\n",
              "99           Якутск         2.741935\n",
              "100       Ярославль         1.322581\n",
              "\n",
              "[101 rows x 2 columns]"
            ]
          },
          "execution_count": 40,
          "metadata": {
            "tags": []
          },
          "output_type": "execute_result"
        }
      ]
    },
    {
      "cell_type": "code",
      "metadata": {
        "colab": {
          "base_uri": "https://localhost:8080/"
        },
        "id": "7g12t48ZlkoS",
        "outputId": "d3f9316f-a430-4c75-da94-ab5c4422c2f7"
      },
      "source": [
        "q3.info()"
      ],
      "execution_count": null,
      "outputs": [
        {
          "name": "stdout",
          "output_type": "stream",
          "text": [
            "<class 'pandas.core.frame.DataFrame'>\n",
            "RangeIndex: 101 entries, 0 to 100\n",
            "Data columns (total 2 columns):\n",
            " #   Column           Non-Null Count  Dtype  \n",
            "---  ------           --------------  -----  \n",
            " 0   city             101 non-null    object \n",
            " 1   average_flights  101 non-null    float64\n",
            "dtypes: float64(1), object(1)\n",
            "memory usage: 1.7+ KB\n"
          ]
        }
      ]
    },
    {
      "cell_type": "code",
      "metadata": {
        "colab": {
          "base_uri": "https://localhost:8080/",
          "height": 297
        },
        "id": "WuSrIG7wVcvk",
        "outputId": "91035fc3-c823-4644-965d-64e2697716b6"
      },
      "source": [
        "q3.describe()"
      ],
      "execution_count": null,
      "outputs": [
        {
          "data": {
            "text/html": [
              "<div>\n",
              "<style scoped>\n",
              "    .dataframe tbody tr th:only-of-type {\n",
              "        vertical-align: middle;\n",
              "    }\n",
              "\n",
              "    .dataframe tbody tr th {\n",
              "        vertical-align: top;\n",
              "    }\n",
              "\n",
              "    .dataframe thead th {\n",
              "        text-align: right;\n",
              "    }\n",
              "</style>\n",
              "<table border=\"1\" class=\"dataframe\">\n",
              "  <thead>\n",
              "    <tr style=\"text-align: right;\">\n",
              "      <th></th>\n",
              "      <th>average_flights</th>\n",
              "    </tr>\n",
              "  </thead>\n",
              "  <tbody>\n",
              "    <tr>\n",
              "      <th>count</th>\n",
              "      <td>101.000000</td>\n",
              "    </tr>\n",
              "    <tr>\n",
              "      <th>mean</th>\n",
              "      <td>5.494189</td>\n",
              "    </tr>\n",
              "    <tr>\n",
              "      <th>std</th>\n",
              "      <td>13.119790</td>\n",
              "    </tr>\n",
              "    <tr>\n",
              "      <th>min</th>\n",
              "      <td>1.000000</td>\n",
              "    </tr>\n",
              "    <tr>\n",
              "      <th>25%</th>\n",
              "      <td>2.000000</td>\n",
              "    </tr>\n",
              "    <tr>\n",
              "      <th>50%</th>\n",
              "      <td>3.000000</td>\n",
              "    </tr>\n",
              "    <tr>\n",
              "      <th>75%</th>\n",
              "      <td>5.870968</td>\n",
              "    </tr>\n",
              "    <tr>\n",
              "      <th>max</th>\n",
              "      <td>129.774194</td>\n",
              "    </tr>\n",
              "  </tbody>\n",
              "</table>\n",
              "</div>"
            ],
            "text/plain": [
              "       average_flights\n",
              "count       101.000000\n",
              "mean          5.494189\n",
              "std          13.119790\n",
              "min           1.000000\n",
              "25%           2.000000\n",
              "50%           3.000000\n",
              "75%           5.870968\n",
              "max         129.774194"
            ]
          },
          "execution_count": 14,
          "metadata": {
            "tags": []
          },
          "output_type": "execute_result"
        }
      ]
    },
    {
      "cell_type": "code",
      "metadata": {
        "colab": {
          "base_uri": "https://localhost:8080/"
        },
        "id": "YyTHXETkl8eW",
        "outputId": "fcf3cc06-105c-4bdd-b9fe-699ef7a724d8"
      },
      "source": [
        "q3.isna().sum()"
      ],
      "execution_count": null,
      "outputs": [
        {
          "data": {
            "text/plain": [
              "city               0\n",
              "average_flights    0\n",
              "dtype: int64"
            ]
          },
          "execution_count": 15,
          "metadata": {
            "tags": []
          },
          "output_type": "execute_result"
        }
      ]
    },
    {
      "cell_type": "code",
      "metadata": {
        "colab": {
          "base_uri": "https://localhost:8080/"
        },
        "id": "PEvfLfWzNmw-",
        "outputId": "b31cccc5-081e-433a-c52a-604508de2c21"
      },
      "source": [
        "q3.duplicated().sum()"
      ],
      "execution_count": null,
      "outputs": [
        {
          "data": {
            "text/plain": [
              "0"
            ]
          },
          "execution_count": 16,
          "metadata": {
            "tags": []
          },
          "output_type": "execute_result"
        }
      ]
    },
    {
      "cell_type": "markdown",
      "metadata": {
        "id": "BZ9x6yNxMWBE"
      },
      "source": [
        "Мы изучили данные, которые состоят из двух датасетов. Тип данных и название столбцов менять не требуется, пропущенных значений и дубликатов нет. Можно перейти к исследовательскому анализу.\n"
      ]
    },
    {
      "cell_type": "markdown",
      "metadata": {
        "id": "s2YhgQBmNtA4"
      },
      "source": [
        "**Топ-10 городов по количеству рейсов**"
      ]
    },
    {
      "cell_type": "code",
      "metadata": {
        "colab": {
          "base_uri": "https://localhost:8080/",
          "height": 359
        },
        "id": "EClpiqd_mAQF",
        "outputId": "1c0c1ad8-6e61-458d-e2ae-d5a2ea7a0417"
      },
      "source": [
        "top10 = q3.sort_values(by='average_flights', ascending=False).head(10)\n",
        "top10"
      ],
      "execution_count": null,
      "outputs": [
        {
          "data": {
            "text/html": [
              "<div>\n",
              "<style scoped>\n",
              "    .dataframe tbody tr th:only-of-type {\n",
              "        vertical-align: middle;\n",
              "    }\n",
              "\n",
              "    .dataframe tbody tr th {\n",
              "        vertical-align: top;\n",
              "    }\n",
              "\n",
              "    .dataframe thead th {\n",
              "        text-align: right;\n",
              "    }\n",
              "</style>\n",
              "<table border=\"1\" class=\"dataframe\">\n",
              "  <thead>\n",
              "    <tr style=\"text-align: right;\">\n",
              "      <th></th>\n",
              "      <th>city</th>\n",
              "      <th>average_flights</th>\n",
              "    </tr>\n",
              "  </thead>\n",
              "  <tbody>\n",
              "    <tr>\n",
              "      <th>43</th>\n",
              "      <td>Москва</td>\n",
              "      <td>129.774194</td>\n",
              "    </tr>\n",
              "    <tr>\n",
              "      <th>70</th>\n",
              "      <td>Санкт-Петербург</td>\n",
              "      <td>31.161290</td>\n",
              "    </tr>\n",
              "    <tr>\n",
              "      <th>54</th>\n",
              "      <td>Новосибирск</td>\n",
              "      <td>17.322581</td>\n",
              "    </tr>\n",
              "    <tr>\n",
              "      <th>33</th>\n",
              "      <td>Красноярск</td>\n",
              "      <td>11.580645</td>\n",
              "    </tr>\n",
              "    <tr>\n",
              "      <th>20</th>\n",
              "      <td>Екатеринбург</td>\n",
              "      <td>11.322581</td>\n",
              "    </tr>\n",
              "    <tr>\n",
              "      <th>67</th>\n",
              "      <td>Ростов-на-Дону</td>\n",
              "      <td>10.193548</td>\n",
              "    </tr>\n",
              "    <tr>\n",
              "      <th>63</th>\n",
              "      <td>Пермь</td>\n",
              "      <td>10.129032</td>\n",
              "    </tr>\n",
              "    <tr>\n",
              "      <th>10</th>\n",
              "      <td>Брянск</td>\n",
              "      <td>10.000000</td>\n",
              "    </tr>\n",
              "    <tr>\n",
              "      <th>74</th>\n",
              "      <td>Сочи</td>\n",
              "      <td>9.612903</td>\n",
              "    </tr>\n",
              "    <tr>\n",
              "      <th>84</th>\n",
              "      <td>Ульяновск</td>\n",
              "      <td>9.580645</td>\n",
              "    </tr>\n",
              "  </tbody>\n",
              "</table>\n",
              "</div>"
            ],
            "text/plain": [
              "               city  average_flights\n",
              "43           Москва       129.774194\n",
              "70  Санкт-Петербург        31.161290\n",
              "54      Новосибирск        17.322581\n",
              "33       Красноярск        11.580645\n",
              "20     Екатеринбург        11.322581\n",
              "67   Ростов-на-Дону        10.193548\n",
              "63            Пермь        10.129032\n",
              "10           Брянск        10.000000\n",
              "74             Сочи         9.612903\n",
              "84        Ульяновск         9.580645"
            ]
          },
          "execution_count": 17,
          "metadata": {
            "tags": []
          },
          "output_type": "execute_result"
        }
      ]
    },
    {
      "cell_type": "markdown",
      "metadata": {
        "id": "3SMmXr6UxAID"
      },
      "source": [
        "Мы получили список городов, первую десятку по среднему количеству рейсов в день за август 2018 в порядке убывания. Москва, Санкт-Петербург и Новосибирск являются лидерами, причем среднее количество рейсов в Москве превышает в 4 раза среднее количество рейсов в Петербурге,в Новосибирск летает почти в 2 раза меньше рейсов, чем в Санкт-Петербург.\n",
        "\n",
        " Визуализируем данные:\n"
      ]
    },
    {
      "cell_type": "code",
      "metadata": {
        "colab": {
          "base_uri": "https://localhost:8080/",
          "height": 621
        },
        "id": "3TUgMr9dOOMB",
        "outputId": "c066f7d7-5348-42ca-8001-8ab96b810e5d"
      },
      "source": [
        "top10.plot(kind = 'barh', x='city', y='average_flights', grid=True, figsize=(15,10), title = 'Топ-10 городов по количеству рейсов')\n",
        "plt.xlabel('Количество рейсов')\n",
        "plt.ylabel('Город')\n",
        "plt.show()"
      ],
      "execution_count": null,
      "outputs": [
        {
          "data": {
            "image/png": "[encoded data removed]",
            "text/plain": [
              "<Figure size 1080x720 with 1 Axes>"
            ]
          },
          "metadata": {
            "needs_background": "light",
            "tags": []
          },
          "output_type": "display_data"
        }
      ]
    },
    {
      "cell_type": "markdown",
      "metadata": {
        "id": "opFhQ1ge1bCe"
      },
      "source": [
        "Мы видим, что остальные города, не вошедшие в тройку лидеров, показывают примерно одинаковое среднее количество рейсов, прибывающих в день за август 2018 года, от 9,5 до 11,5."
      ]
    },
    {
      "cell_type": "markdown",
      "metadata": {
        "id": "C8U46-m9QksZ"
      },
      "source": [
        "**Построение графиков: модели самолетов и количество рейсов, города и количество рейсов**"
      ]
    },
    {
      "cell_type": "code",
      "metadata": {
        "colab": {
          "base_uri": "https://localhost:8080/",
          "height": 297
        },
        "id": "jU4to9TdRprq",
        "outputId": "830d1756-7242-425c-8ea1-4d762d4613d4"
      },
      "source": [
        "#отсортируем данные для моделей по количеству рейсов\n",
        "models = q1.sort_values(by='flights_amount', ascending=False)\n",
        "models"
      ],
      "execution_count": null,
      "outputs": [
        {
          "data": {
            "text/html": [
              "<div>\n",
              "<style scoped>\n",
              "    .dataframe tbody tr th:only-of-type {\n",
              "        vertical-align: middle;\n",
              "    }\n",
              "\n",
              "    .dataframe tbody tr th {\n",
              "        vertical-align: top;\n",
              "    }\n",
              "\n",
              "    .dataframe thead th {\n",
              "        text-align: right;\n",
              "    }\n",
              "</style>\n",
              "<table border=\"1\" class=\"dataframe\">\n",
              "  <thead>\n",
              "    <tr style=\"text-align: right;\">\n",
              "      <th></th>\n",
              "      <th>model</th>\n",
              "      <th>flights_amount</th>\n",
              "    </tr>\n",
              "  </thead>\n",
              "  <tbody>\n",
              "    <tr>\n",
              "      <th>6</th>\n",
              "      <td>Cessna 208 Caravan</td>\n",
              "      <td>4557</td>\n",
              "    </tr>\n",
              "    <tr>\n",
              "      <th>5</th>\n",
              "      <td>Bombardier CRJ-200</td>\n",
              "      <td>4446</td>\n",
              "    </tr>\n",
              "    <tr>\n",
              "      <th>7</th>\n",
              "      <td>Sukhoi SuperJet-100</td>\n",
              "      <td>4185</td>\n",
              "    </tr>\n",
              "    <tr>\n",
              "      <th>1</th>\n",
              "      <td>Airbus A321-200</td>\n",
              "      <td>960</td>\n",
              "    </tr>\n",
              "    <tr>\n",
              "      <th>2</th>\n",
              "      <td>Boeing 737-300</td>\n",
              "      <td>630</td>\n",
              "    </tr>\n",
              "    <tr>\n",
              "      <th>0</th>\n",
              "      <td>Airbus A319-100</td>\n",
              "      <td>607</td>\n",
              "    </tr>\n",
              "    <tr>\n",
              "      <th>3</th>\n",
              "      <td>Boeing 767-300</td>\n",
              "      <td>600</td>\n",
              "    </tr>\n",
              "    <tr>\n",
              "      <th>4</th>\n",
              "      <td>Boeing 777-300</td>\n",
              "      <td>300</td>\n",
              "    </tr>\n",
              "  </tbody>\n",
              "</table>\n",
              "</div>"
            ],
            "text/plain": [
              "                 model  flights_amount\n",
              "6   Cessna 208 Caravan            4557\n",
              "5   Bombardier CRJ-200            4446\n",
              "7  Sukhoi SuperJet-100            4185\n",
              "1      Airbus A321-200             960\n",
              "2       Boeing 737-300             630\n",
              "0      Airbus A319-100             607\n",
              "3       Boeing 767-300             600\n",
              "4       Boeing 777-300             300"
            ]
          },
          "execution_count": 41,
          "metadata": {
            "tags": []
          },
          "output_type": "execute_result"
        }
      ]
    },
    {
      "cell_type": "code",
      "metadata": {
        "colab": {
          "base_uri": "https://localhost:8080/",
          "height": 499
        },
        "id": "Vt8jVA-JPG15",
        "outputId": "4fe935c9-3d92-4165-9064-0c43e4c2e6c7"
      },
      "source": [
        "#построим график\n",
        "models.plot(x='model', y='flights_amount', kind='barh', grid=True, figsize=(8, 8), title='Модели самолетов и количество рейсов')\n",
        "plt.show()"
      ],
      "execution_count": null,
      "outputs": [
        {
          "data": {
            "image/png": "[encoded data removed]",
            "text/plain": [
              "<Figure size 576x576 with 1 Axes>"
            ]
          },
          "metadata": {
            "needs_background": "light",
            "tags": []
          },
          "output_type": "display_data"
        }
      ]
    },
    {
      "cell_type": "markdown",
      "metadata": {
        "id": "Q8AFgnhA2cpL"
      },
      "source": [
        "Самое большое количество рейсов в сентябре 2018, более 4000, совершалось на самолетах моделей Cessna 208 Caravan, Bombardier CRJ-200 и Sukhoi SuperJet-100. \n",
        "Примечательно то, что Cessna  - самолет малой авиации, перевозяций всего 9 пассажиров. Неприхотливый в эксплуатации, простотой в пилотировании, является высокотехнологичным решением для развития частной авиации в России.\n",
        "\n",
        "Можно понять популярность модели Bombardier CRJ-200, этот экономичный скоростной самолет способен выполнять полёты в сложных метеорологических условиях и в условиях высокогорных аэродромов. \n",
        " \n",
        "Несмотря на проблемы с эксплуатацией и высокой стоимостью полетов, Sukhoi SuperJet-100 на сентябрь 2018 еще оставался в тройке лидеров. Предполагаем, что это связано с тем, что данные модели производились в достаточных количествах и выполняли полеты у российских и зарубежных авиакомпаний."
      ]
    },
    {
      "cell_type": "code",
      "metadata": {
        "colab": {
          "base_uri": "https://localhost:8080/",
          "height": 419
        },
        "id": "j_CsQhrBRduR",
        "outputId": "c2f92749-10ae-439e-a469-819dd2edba6d"
      },
      "source": [
        "#отсортируем данные по городам по среднему количеству полетов\n",
        "cities = q3.sort_values(by='average_flights', ascending=False)\n",
        "cities"
      ],
      "execution_count": null,
      "outputs": [
        {
          "data": {
            "text/html": [
              "<div>\n",
              "<style scoped>\n",
              "    .dataframe tbody tr th:only-of-type {\n",
              "        vertical-align: middle;\n",
              "    }\n",
              "\n",
              "    .dataframe tbody tr th {\n",
              "        vertical-align: top;\n",
              "    }\n",
              "\n",
              "    .dataframe thead th {\n",
              "        text-align: right;\n",
              "    }\n",
              "</style>\n",
              "<table border=\"1\" class=\"dataframe\">\n",
              "  <thead>\n",
              "    <tr style=\"text-align: right;\">\n",
              "      <th></th>\n",
              "      <th>city</th>\n",
              "      <th>average_flights</th>\n",
              "    </tr>\n",
              "  </thead>\n",
              "  <tbody>\n",
              "    <tr>\n",
              "      <th>43</th>\n",
              "      <td>Москва</td>\n",
              "      <td>129.774194</td>\n",
              "    </tr>\n",
              "    <tr>\n",
              "      <th>70</th>\n",
              "      <td>Санкт-Петербург</td>\n",
              "      <td>31.161290</td>\n",
              "    </tr>\n",
              "    <tr>\n",
              "      <th>54</th>\n",
              "      <td>Новосибирск</td>\n",
              "      <td>17.322581</td>\n",
              "    </tr>\n",
              "    <tr>\n",
              "      <th>33</th>\n",
              "      <td>Красноярск</td>\n",
              "      <td>11.580645</td>\n",
              "    </tr>\n",
              "    <tr>\n",
              "      <th>20</th>\n",
              "      <td>Екатеринбург</td>\n",
              "      <td>11.322581</td>\n",
              "    </tr>\n",
              "    <tr>\n",
              "      <th>...</th>\n",
              "      <td>...</td>\n",
              "      <td>...</td>\n",
              "    </tr>\n",
              "    <tr>\n",
              "      <th>22</th>\n",
              "      <td>Ижевск</td>\n",
              "      <td>1.000000</td>\n",
              "    </tr>\n",
              "    <tr>\n",
              "      <th>65</th>\n",
              "      <td>Петропавловск-Камчатский</td>\n",
              "      <td>1.000000</td>\n",
              "    </tr>\n",
              "    <tr>\n",
              "      <th>31</th>\n",
              "      <td>Комсомольск-на-Амуре</td>\n",
              "      <td>1.000000</td>\n",
              "    </tr>\n",
              "    <tr>\n",
              "      <th>58</th>\n",
              "      <td>Нягань</td>\n",
              "      <td>1.000000</td>\n",
              "    </tr>\n",
              "    <tr>\n",
              "      <th>49</th>\n",
              "      <td>Нефтеюганск</td>\n",
              "      <td>1.000000</td>\n",
              "    </tr>\n",
              "  </tbody>\n",
              "</table>\n",
              "<p>101 rows × 2 columns</p>\n",
              "</div>"
            ],
            "text/plain": [
              "                        city  average_flights\n",
              "43                    Москва       129.774194\n",
              "70           Санкт-Петербург        31.161290\n",
              "54               Новосибирск        17.322581\n",
              "33                Красноярск        11.580645\n",
              "20              Екатеринбург        11.322581\n",
              "..                       ...              ...\n",
              "22                    Ижевск         1.000000\n",
              "65  Петропавловск-Камчатский         1.000000\n",
              "31      Комсомольск-на-Амуре         1.000000\n",
              "58                    Нягань         1.000000\n",
              "49               Нефтеюганск         1.000000\n",
              "\n",
              "[101 rows x 2 columns]"
            ]
          },
          "execution_count": 43,
          "metadata": {
            "tags": []
          },
          "output_type": "execute_result"
        }
      ]
    },
    {
      "cell_type": "code",
      "metadata": {
        "colab": {
          "base_uri": "https://localhost:8080/",
          "height": 1000
        },
        "id": "4ZEpRVxsT2r6",
        "outputId": "08ac40af-7712-47a6-8dba-077f246bacba"
      },
      "source": [
        "#построим визуализацию данных для всех представленных в ДФ городов\n",
        "cities.plot(kind = 'barh', x='city', y='average_flights', grid=True, figsize=(20,17), title = 'Города и количество рейсов')\n",
        "plt.xlabel('Количество рейсов')\n",
        "plt.ylabel('Город')\n",
        "plt.show()"
      ],
      "execution_count": null,
      "outputs": [
        {
          "data": {
            "image/png": "[encoded data removed]",
            "text/plain": [
              "<Figure size 1440x1224 with 1 Axes>"
            ]
          },
          "metadata": {
            "needs_background": "light",
            "tags": []
          },
          "output_type": "display_data"
        }
      ]
    },
    {
      "cell_type": "markdown",
      "metadata": {
        "id": "v2Ax93u134Sk"
      },
      "source": [
        "Мы уже выявили топ самых популярных городов для полетов. На графике можно увидеть распределения числа рейсов по городам, среди них самыми малопосещаемыми за рассматриваемый период оказались далекие от центральной России: Нефтеюганск, Нягань, Комсомольск-на-Амуре."
      ]
    },
    {
      "cell_type": "markdown",
      "metadata": {
        "id": "v3JhKeWPAllX"
      },
      "source": [
        "**Общий вывод**\n",
        "\n",
        "В ходе проведенного исследования мы изучили данные, которые состояли из двух датасетов. Данные были чистыми, без пропусков, дубликатов, приведенные к нужному типу.\n",
        "\n",
        "Топ-3 модели самолёта в сентябре 2018 года по количеству полетов - Cessna 208 Caravan, Bombardier CRJ-200 и Sukhoi SuperJet-100. На остальных моделях не совершилось и 1000 рейсов в месяц.\n",
        "\n",
        "В топ-10 городов по количеству совершаемых рейсов первую строчку занимает Москва, далее идет с отрывом более, чем в 4 раза  Санкт-Петербург, в Новосибирск совершается почти в 2 раза меньше рейсов,  чем в Санкт-Петербург. Остальные города, не вошедшие в тройку лидеров, показывают примерно одинаковое среднее количество рейсов, прибывающих в день за август 2018 года, от 9,5 до 11,5.\n",
        " \n",
        "Как мы выяснили в первой части исследования, спрос пассажиров на рейсы в города, где проходят крупнейшие фестивали, не растет. Для проведения статистического анализа мы не располагаем достаточным количеством данных.\n"
      ]
    }
  ]
}